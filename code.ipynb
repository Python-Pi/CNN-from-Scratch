{
 "cells": [
  {
   "cell_type": "markdown",
   "metadata": {},
   "source": [
    "# Convulutional Neural Network from Scratch"
   ]
  },
  {
   "cell_type": "code",
   "execution_count": 2,
   "metadata": {},
   "outputs": [],
   "source": [
    "# libraries\n",
    "import numpy as np\n",
    "import pandas as pd"
   ]
  },
  {
   "cell_type": "code",
   "execution_count": 3,
   "metadata": {},
   "outputs": [],
   "source": [
    "# Load dataset from CSV\n",
    "def load_fashion_mnist(csv_path):\n",
    "    data = pd.read_csv(csv_path).values  \n",
    "    labels = data[:, 0]  \n",
    "    images = data[:, 1:] \n",
    "\n",
    "    # Normalize pixel values to [0,1]\n",
    "    images = images.astype(np.float32) / 255.0\n",
    "\n",
    "    return images, labels"
   ]
  },
  {
   "cell_type": "markdown",
   "metadata": {},
   "source": [
    "### Information on fashin mnist dataset\n",
    "- The training dataset contains 60,000 images and the test dataset contains 10,000 images.\n",
    "- Each image is 28x28 pixels which are converted into an array of 784 elements.\n",
    "- Each image is labeled with a number from 0 to 9 which represents the class of the image.\n",
    "- The validation dataset is obtained as 20% of the training dataset.\n",
    "\n",
    "### Data size\n",
    "* Training dataset - 48,000 images\n",
    "* Validation dataset - 12,000 images\n",
    "* Test dataset - 10,000 images"
   ]
  },
  {
   "cell_type": "code",
   "execution_count": 6,
   "metadata": {},
   "outputs": [
    {
     "name": "stdout",
     "output_type": "stream",
     "text": [
      "Train: (48000, 784), Validation: (12000, 784), Test: (10000, 784)\n"
     ]
    }
   ],
   "source": [
    "# Load train and test datasets\n",
    "train_images, train_labels = load_fashion_mnist(\"datasets/fashion-mnist_train.csv\")\n",
    "test_images, test_labels = load_fashion_mnist(\"datasets/fashion-mnist_test.csv\")\n",
    "\n",
    "# Split train into (train + validation)\n",
    "num_train = int(0.8 * train_images.shape[0])\n",
    "val_images, val_labels = train_images[num_train:], train_labels[num_train:]\n",
    "train_images, train_labels = train_images[:num_train], train_labels[:num_train]\n",
    "\n",
    "print(f\"Train: {train_images.shape}, Validation: {val_images.shape}, Test: {test_images.shape}\")"
   ]
  },
  {
   "cell_type": "code",
   "execution_count": null,
   "metadata": {},
   "outputs": [],
   "source": []
  },
  {
   "cell_type": "code",
   "execution_count": null,
   "metadata": {},
   "outputs": [],
   "source": []
  },
  {
   "cell_type": "code",
   "execution_count": null,
   "metadata": {},
   "outputs": [],
   "source": []
  }
 ],
 "metadata": {
  "kernelspec": {
   "display_name": "ml",
   "language": "python",
   "name": "python3"
  },
  "language_info": {
   "codemirror_mode": {
    "name": "ipython",
    "version": 3
   },
   "file_extension": ".py",
   "mimetype": "text/x-python",
   "name": "python",
   "nbconvert_exporter": "python",
   "pygments_lexer": "ipython3",
   "version": "3.10.15"
  }
 },
 "nbformat": 4,
 "nbformat_minor": 2
}
