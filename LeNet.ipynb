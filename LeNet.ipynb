{
 "cells": [
  {
   "cell_type": "code",
   "execution_count": 1,
   "metadata": {},
   "outputs": [],
   "source": [
    "import numpy as np\n",
    "import pandas as pd\n",
    "import torch\n",
    "import torch.nn as nn\n",
    "import torch.optim as optim\n",
    "import torch.nn.functional as F\n",
    "from torch.utils.data import DataLoader, TensorDataset"
   ]
  },
  {
   "cell_type": "code",
   "execution_count": 2,
   "metadata": {},
   "outputs": [],
   "source": [
    "# Load dataset from CSV\n",
    "def load_fashion_mnist(csv_path):\n",
    "    data = pd.read_csv(csv_path).values  \n",
    "    labels = data[:, 0]  \n",
    "    images = data[:, 1:] \n",
    "\n",
    "    # Normalize pixel values to [0,1]\n",
    "    images = images.astype(np.float32) / 255.0\n",
    "\n",
    "    return images, labels"
   ]
  },
  {
   "cell_type": "code",
   "execution_count": 3,
   "metadata": {},
   "outputs": [
    {
     "name": "stdout",
     "output_type": "stream",
     "text": [
      "Train: (48000, 784), Validation: (12000, 784), Test: (10000, 784)\n"
     ]
    }
   ],
   "source": [
    "# Load train and test datasets\n",
    "train_images, train_labels = load_fashion_mnist(\"datasets/fashion-mnist_train.csv\")\n",
    "test_images, test_labels = load_fashion_mnist(\"datasets/fashion-mnist_test.csv\")\n",
    "\n",
    "# Split train into (train + validation)\n",
    "num_train = int(0.8 * train_images.shape[0])\n",
    "val_images, val_labels = train_images[num_train:], train_labels[num_train:]\n",
    "train_images, train_labels = train_images[:num_train], train_labels[:num_train]\n",
    "\n",
    "print(f\"Train: {train_images.shape}, Validation: {val_images.shape}, Test: {test_images.shape}\")"
   ]
  },
  {
   "cell_type": "code",
   "execution_count": 4,
   "metadata": {},
   "outputs": [],
   "source": [
    "class CNNModel(nn.Module):\n",
    "    def __init__(self, num_classes=10, pooling_type='max'):\n",
    "        super(CNNModel, self).__init__()\n",
    "        self.pooling_type = pooling_type\n",
    "\n",
    "        # Input: 1x28x28 -> Output: 6x28x28\n",
    "        self.conv1 = nn.Conv2d(1, 6, kernel_size=5, padding=2)\n",
    "\n",
    "        # Input: 6x28x28 -> Output: 6x14x14\n",
    "        self.pool1 = nn.MaxPool2d(kernel_size=2, stride=2)\n",
    "\n",
    "        # Input: 6x14x14 -> Output: 16x10x10\n",
    "        self.conv2 = nn.Conv2d(6, 16, kernel_size=5)\n",
    "\n",
    "        # Input: 16x10x10 -> Output: 16x5x5\n",
    "        self.pool2 = nn.MaxPool2d(kernel_size=2, stride=2)\n",
    "\n",
    "        # Input: 16x5x5 -> Output: 120\n",
    "        self.fc1 = nn.Linear(400, 120)\n",
    "\n",
    "        # Input: 120 -> Output: 84\n",
    "        self.fc2 = nn.Linear(120, 84)\n",
    "\n",
    "        # Input: 84 -> Output: num_classes\n",
    "        self.fc3 = nn.Linear(84, num_classes)\n",
    "\n",
    "    def forward(self, x, extract_features=False):\n",
    "        x = self.conv1(x)\n",
    "        x = F.tanh(x)\n",
    "        x = self.pool1(x)\n",
    "        x = self.conv2(x)\n",
    "        x = F.tanh(x)\n",
    "        x = self.pool2(x)\n",
    "\n",
    "        if extract_features:\n",
    "            return x  \n",
    "        \n",
    "        x = self.fc1(x.view(-1, 400))\n",
    "        x = F.tanh(x)\n",
    "        x = self.fc2(x)\n",
    "        x = F.softmax(x, dim=1) \n",
    "        return x"
   ]
  },
  {
   "cell_type": "code",
   "execution_count": 5,
   "metadata": {},
   "outputs": [],
   "source": [
    "# X_train = train_images.reshape(-1, 1, 28, 28)\n",
    "# X_train = torch.from_numpy(X_train).float()\n",
    "# y_train = torch.from_numpy(train_labels).long()\n",
    "\n",
    "# X_val = val_images.reshape(-1, 1, 28, 28)\n",
    "# X_val = torch.from_numpy(X_val).float()\n",
    "# y_val = torch.from_numpy(val_labels).long()\n",
    "\n",
    "# train_dataset = TensorDataset(X_train, y_train)\n",
    "# train_loader = DataLoader(train_dataset, batch_size=64, shuffle=True)\n",
    "\n",
    "# cnn_model = CNNModel(num_classes=10)\n",
    "# criterion = nn.CrossEntropyLoss()\n",
    "# optimizer = optim.Adam(cnn_model.parameters(), lr=0.001)\n",
    "\n",
    "# num_epochs = 25\n",
    "# for epoch in range(num_epochs):\n",
    "#     cnn_model.train()\n",
    "#     total_loss = 0\n",
    "#     for images, labels in train_loader:\n",
    "#         optimizer.zero_grad()\n",
    "#         outputs = cnn_model(images)\n",
    "#         loss = criterion(outputs, labels)\n",
    "#         loss.backward()\n",
    "#         optimizer.step()\n",
    "#         total_loss += loss.item()\n",
    "#     print(f\"Epoch {epoch+1}, Loss: {total_loss:.4f}\")\n",
    "\n",
    "# print(\"Training complete!\")\n"
   ]
  },
  {
   "cell_type": "code",
   "execution_count": 6,
   "metadata": {},
   "outputs": [
    {
     "name": "stdout",
     "output_type": "stream",
     "text": [
      "Epoch 1, Loss: 2868.6979, Train Acc: 63.89%, Val Acc: 74.15%\n",
      "Epoch 2, Loss: 2780.5287, Train Acc: 74.75%, Val Acc: 75.44%\n",
      "Epoch 3, Loss: 2773.8100, Train Acc: 75.50%, Val Acc: 75.68%\n",
      "Epoch 4, Loss: 2770.7943, Train Acc: 75.81%, Val Acc: 75.86%\n",
      "Epoch 5, Loss: 2768.0882, Train Acc: 76.17%, Val Acc: 76.14%\n",
      "Epoch 6, Loss: 2732.5072, Train Acc: 81.12%, Val Acc: 82.09%\n",
      "Epoch 7, Loss: 2715.7484, Train Acc: 83.24%, Val Acc: 82.99%\n",
      "Epoch 8, Loss: 2712.0817, Train Acc: 83.68%, Val Acc: 83.43%\n",
      "Epoch 9, Loss: 2709.0167, Train Acc: 84.14%, Val Acc: 83.61%\n",
      "Epoch 10, Loss: 2707.0726, Train Acc: 84.35%, Val Acc: 83.88%\n",
      "Epoch 11, Loss: 2705.5796, Train Acc: 84.54%, Val Acc: 84.17%\n",
      "Epoch 12, Loss: 2692.7053, Train Acc: 86.45%, Val Acc: 86.88%\n",
      "Epoch 13, Loss: 2677.0939, Train Acc: 88.52%, Val Acc: 87.64%\n",
      "Epoch 14, Loss: 2671.1116, Train Acc: 89.36%, Val Acc: 88.47%\n",
      "Epoch 15, Loss: 2665.8937, Train Acc: 90.09%, Val Acc: 89.17%\n",
      "Epoch 16, Loss: 2662.0913, Train Acc: 90.54%, Val Acc: 89.08%\n",
      "Epoch 17, Loss: 2659.0060, Train Acc: 90.96%, Val Acc: 88.97%\n",
      "Epoch 18, Loss: 2656.7667, Train Acc: 91.23%, Val Acc: 88.96%\n",
      "Epoch 19, Loss: 2654.6325, Train Acc: 91.49%, Val Acc: 88.92%\n",
      "Epoch 20, Loss: 2652.2776, Train Acc: 91.89%, Val Acc: 89.20%\n",
      "Epoch 21, Loss: 2650.6828, Train Acc: 92.02%, Val Acc: 89.51%\n",
      "Epoch 22, Loss: 2648.7882, Train Acc: 92.30%, Val Acc: 89.14%\n",
      "Epoch 23, Loss: 2648.2968, Train Acc: 92.31%, Val Acc: 89.38%\n",
      "Epoch 24, Loss: 2646.6493, Train Acc: 92.51%, Val Acc: 89.75%\n",
      "Epoch 25, Loss: 2644.7151, Train Acc: 92.81%, Val Acc: 89.28%\n",
      "Epoch 26, Loss: 2643.3563, Train Acc: 93.01%, Val Acc: 89.35%\n",
      "Epoch 27, Loss: 2642.2405, Train Acc: 93.12%, Val Acc: 89.74%\n",
      "Epoch 28, Loss: 2640.5443, Train Acc: 93.39%, Val Acc: 89.77%\n",
      "Epoch 29, Loss: 2639.4793, Train Acc: 93.51%, Val Acc: 89.31%\n",
      "Epoch 30, Loss: 2638.2850, Train Acc: 93.64%, Val Acc: 89.50%\n",
      "Training complete!\n"
     ]
    }
   ],
   "source": [
    "X_train = train_images.reshape(-1, 1, 28, 28)\n",
    "X_train = torch.from_numpy(X_train).float()\n",
    "y_train = torch.from_numpy(train_labels).long()\n",
    "\n",
    "X_val = val_images.reshape(-1, 1, 28, 28)\n",
    "X_val = torch.from_numpy(X_val).float()\n",
    "y_val = torch.from_numpy(val_labels).long()\n",
    "\n",
    "train_dataset = TensorDataset(X_train, y_train)\n",
    "train_loader = DataLoader(train_dataset, batch_size=64, shuffle=True)\n",
    "\n",
    "val_dataset = TensorDataset(X_val, y_val)\n",
    "val_loader = DataLoader(val_dataset, batch_size=64, shuffle=False)\n",
    "\n",
    "cnn_model = CNNModel(num_classes=10)\n",
    "criterion = nn.CrossEntropyLoss()\n",
    "optimizer = optim.Adam(cnn_model.parameters(), lr=0.001)\n",
    "\n",
    "num_epochs = 30\n",
    "for epoch in range(num_epochs):\n",
    "    cnn_model.train()\n",
    "    total_loss = 0\n",
    "    correct_train = 0\n",
    "    total_train = 0\n",
    "\n",
    "    # Training Loop\n",
    "    for images, labels in train_loader:\n",
    "        optimizer.zero_grad()\n",
    "        outputs = cnn_model(images)\n",
    "        loss = criterion(outputs, labels)\n",
    "        loss.backward()\n",
    "        optimizer.step()\n",
    "        total_loss += loss.item()\n",
    "        \n",
    "        # Compute training accuracy\n",
    "        _, predicted = torch.max(outputs, 1)\n",
    "        correct_train += (predicted == labels).sum().item()\n",
    "        total_train += labels.size(0)\n",
    "\n",
    "    train_accuracy = (correct_train / total_train) * 100\n",
    "\n",
    "    # Validation Loop\n",
    "    cnn_model.eval()\n",
    "    correct_val = 0\n",
    "    total_val = 0\n",
    "    with torch.no_grad():\n",
    "        for images, labels in val_loader:\n",
    "            outputs = cnn_model(images)\n",
    "            _, predicted = torch.max(outputs, 1)\n",
    "            correct_val += (predicted == labels).sum().item()\n",
    "            total_val += labels.size(0)\n",
    "\n",
    "    val_accuracy = (correct_val / total_val) * 100\n",
    "\n",
    "    print(f\"Epoch {epoch+1}, Loss: {total_loss:.4f}, Train Acc: {train_accuracy:.2f}%, Val Acc: {val_accuracy:.2f}%\")\n",
    "\n",
    "print(\"Training complete!\")"
   ]
  },
  {
   "cell_type": "code",
   "execution_count": 7,
   "metadata": {},
   "outputs": [
    {
     "name": "stdout",
     "output_type": "stream",
     "text": [
      "Test Accuracy: 90.06%\n"
     ]
    }
   ],
   "source": [
    "# Evaluate model from the CNN itself\n",
    "X_test = test_images.reshape(-1, 1, 28, 28)\n",
    "X_test = torch.from_numpy(X_test).float()\n",
    "Y_test = torch.from_numpy(test_labels).long()\n",
    "\n",
    "cnn_model.eval()\n",
    "outputs = cnn_model(X_test)\n",
    "_, predictions = torch.max(outputs, 1)\n",
    "accuracy = torch.sum(predictions == Y_test).item() / len(Y_test) * 100\n",
    "print(f\"Test Accuracy: {accuracy:.2f}%\")\n"
   ]
  },
  {
   "cell_type": "code",
   "execution_count": null,
   "metadata": {},
   "outputs": [],
   "source": []
  }
 ],
 "metadata": {
  "kernelspec": {
   "display_name": "ml",
   "language": "python",
   "name": "python3"
  },
  "language_info": {
   "codemirror_mode": {
    "name": "ipython",
    "version": 3
   },
   "file_extension": ".py",
   "mimetype": "text/x-python",
   "name": "python",
   "nbconvert_exporter": "python",
   "pygments_lexer": "ipython3",
   "version": "3.11.11"
  }
 },
 "nbformat": 4,
 "nbformat_minor": 2
}
